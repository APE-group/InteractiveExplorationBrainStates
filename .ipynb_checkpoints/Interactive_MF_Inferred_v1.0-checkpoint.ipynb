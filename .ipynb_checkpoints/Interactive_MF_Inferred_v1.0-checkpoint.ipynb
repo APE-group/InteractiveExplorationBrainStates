{
 "cells": [
  {
   "cell_type": "code",
   "execution_count": 3,
   "id": "acknowledged-oasis",
   "metadata": {},
   "outputs": [],
   "source": [
    "execfile(\"initialization.py\")"
   ]
  },
  {
   "cell_type": "code",
   "execution_count": 4,
   "id": "compound-qualification",
   "metadata": {
    "scrolled": false
   },
   "outputs": [
    {
     "data": {
      "application/vnd.jupyter.widget-view+json": {
       "model_id": "730ef4bf9e8a40c8827e0b2085ee1d3a",
       "version_major": 2,
       "version_minor": 0
      },
      "text/plain": [
       "aW50ZXJhY3RpdmUoY2hpbGRyZW49KEZsb2F0U2xpZGVyKHZhbHVlPTEuMCwgZGVzY3JpcHRpb249dSckSV8wJCcsIG1heD0xLjUsIG1pbj0wLjYsIHN0ZXA9MC4wMSksIEZsb2F0U2xpZGVyKHbigKY=\n"
      ]
     },
     "metadata": {},
     "output_type": "display_data"
    }
   ],
   "source": [
    "interact(run_and_plot, I0=widgets.FloatSlider(min=.6, max=1.5, step=.01, value=1.,description= '$I_0$'),\n",
    "         b_0=widgets.FloatSlider(min=0.1, max=2., step=.01, value=1.,description= '$b_0$'),\n",
    "         b_amp=widgets.FloatSlider(min=0, max=1., step=.01, value=0,description= '$b_{amp}$'),\n",
    "         state = ['selected from slider','Slow Waves','Spiral Waves','HAS','LAS'] );\n"
   ]
  },
  {
   "cell_type": "code",
   "execution_count": null,
   "id": "sublime-knitting",
   "metadata": {},
   "outputs": [],
   "source": []
  }
 ],
 "metadata": {
  "kernelspec": {
   "display_name": "Python 2",
   "language": "python",
   "name": "python2"
  },
  "language_info": {
   "codemirror_mode": {
    "name": "ipython",
    "version": 2
   },
   "file_extension": ".py",
   "mimetype": "text/x-python",
   "name": "python",
   "nbconvert_exporter": "python",
   "pygments_lexer": "ipython2",
   "version": "2.7.15"
  }
 },
 "nbformat": 4,
 "nbformat_minor": 5
}
