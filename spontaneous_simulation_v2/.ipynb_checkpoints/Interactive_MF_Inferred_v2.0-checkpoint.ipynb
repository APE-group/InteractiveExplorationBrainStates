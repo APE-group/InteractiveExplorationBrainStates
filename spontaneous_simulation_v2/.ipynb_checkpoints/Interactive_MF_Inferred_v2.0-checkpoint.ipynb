{
 "cells": [
  {
   "cell_type": "markdown",
   "id": "65606e49",
   "metadata": {},
   "source": [
    "#### Live Figure LP2.4\n",
    "- When the cell below is executed for the first time, the widget and the figure appear with the default initial values. \n",
    "- If values are changed (sliders are moved) or the pre-defined state is changed, the user needs to click on \"Run\" to visualize the figure. \n",
    "- This avoids multiple executions whenever the slider is being moved.\n",
    "- Take into account that when the user selected a pre-defined state \"A\" and the sliders are later modified, if the pre-defined state is not returned to \"selected from slider\", \"A\" will be executed again. "
   ]
  },
  {
   "cell_type": "code",
   "execution_count": 23,
   "id": "c5bcd4fd",
   "metadata": {},
   "outputs": [
    {
     "data": {
      "application/vnd.jupyter.widget-view+json": {
       "model_id": "316327c5405c487fbdb2796843b18f8f",
       "version_major": 2,
       "version_minor": 0
      },
      "text/plain": [
       "HBox(children=(VBox(children=(FloatSlider(value=1.0, continuous_update=False, description='I factor', max=1.5,…"
      ]
     },
     "metadata": {},
     "output_type": "display_data"
    },
    {
     "data": {
      "application/vnd.jupyter.widget-view+json": {
       "model_id": "08de2034076c474092e04f077f498b47",
       "version_major": 2,
       "version_minor": 0
      },
      "text/plain": [
       "Output()"
      ]
     },
     "metadata": {},
     "output_type": "display_data"
    },
    {
     "data": {
      "text/plain": [
       "<utilities.interactive_GUI at 0x7f492893e6a0>"
      ]
     },
     "execution_count": 23,
     "metadata": {},
     "output_type": "execute_result"
    }
   ],
   "source": [
    "import utilities as GUI\n",
    "import imp\n",
    "imp.reload(GUI) # if something in utilites.py has changed, this reloads it and includes the changes.\n",
    "GUI.interactive_GUI()"
   ]
  },
  {
   "cell_type": "code",
   "execution_count": null,
   "id": "6323d291",
   "metadata": {},
   "outputs": [],
   "source": []
  }
 ],
 "metadata": {
  "kernelspec": {
   "display_name": "Python 3",
   "language": "python",
   "name": "python3"
  },
  "language_info": {
   "codemirror_mode": {
    "name": "ipython",
    "version": 3
   },
   "file_extension": ".py",
   "mimetype": "text/x-python",
   "name": "python",
   "nbconvert_exporter": "python",
   "pygments_lexer": "ipython3",
   "version": "3.6.9"
  }
 },
 "nbformat": 4,
 "nbformat_minor": 5
}
