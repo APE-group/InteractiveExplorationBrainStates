{
 "cells": [
  {
   "cell_type": "markdown",
   "id": "cf50783d",
   "metadata": {},
   "source": [
    "#### Live Figure LP2.4\n",
    "- When the cell below is executed for the first time, the widget and the figure appear with the default initial values. \n",
    "- If values are changed (sliders are moved) or the pre-defined state is changed, the user needs to click on \"Run\" to visualize the figure. \n",
    "- This avoids multiple executions whenever the slider is being moved.\n",
    "- Take into account that when the user selected a pre-defined state \"A\" and the sliders are later modified, if the pre-defined state is not returned to \"selected from slider\", \"A\" will be executed again. "
   ]
  },
  {
   "cell_type": "code",
   "execution_count": 3,
   "id": "ccc246d2",
   "metadata": {},
   "outputs": [
    {
     "data": {
      "application/vnd.jupyter.widget-view+json": {
       "model_id": "2fcd0cdf716a4fd68b1a68ce2629805b",
       "version_major": 2,
       "version_minor": 0
      },
      "text/plain": [
       "HBox(children=(VBox(children=(FloatSlider(value=1.0, continuous_update=False, description='I factor', max=1.5,…"
      ]
     },
     "metadata": {},
     "output_type": "display_data"
    },
    {
     "data": {
      "application/vnd.jupyter.widget-view+json": {
       "model_id": "b25dd1523b3e4f4d9c0f82ebb45ff621",
       "version_major": 2,
       "version_minor": 0
      },
      "text/plain": [
       "Output()"
      ]
     },
     "metadata": {},
     "output_type": "display_data"
    },
    {
     "data": {
      "text/plain": [
       "<utilities.interactive_GUI at 0x7f9bd7d00198>"
      ]
     },
     "execution_count": 3,
     "metadata": {},
     "output_type": "execute_result"
    }
   ],
   "source": [
    "import utilities as GUI\n",
    "import imp\n",
    "imp.reload(GUI) # if something in utilites.py has changed, this reloads it and includes the changes.\n",
    "GUI.interactive_GUI()"
   ]
  },
  {
   "cell_type": "code",
   "execution_count": null,
   "id": "e90986d9",
   "metadata": {},
   "outputs": [],
   "source": []
  }
 ],
 "metadata": {
  "kernelspec": {
   "display_name": "Python 3",
   "language": "python",
   "name": "python3"
  },
  "language_info": {
   "codemirror_mode": {
    "name": "ipython",
    "version": 3
   },
   "file_extension": ".py",
   "mimetype": "text/x-python",
   "name": "python",
   "nbconvert_exporter": "python",
   "pygments_lexer": "ipython3",
   "version": "3.6.9"
  }
 },
 "nbformat": 4,
 "nbformat_minor": 5
}
